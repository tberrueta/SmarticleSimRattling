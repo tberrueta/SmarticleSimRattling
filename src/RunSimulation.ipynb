{
 "cells": [
  {
   "cell_type": "markdown",
   "metadata": {},
   "source": [
    "# Smarticle Simulation"
   ]
  },
  {
   "cell_type": "code",
   "execution_count": 8,
   "metadata": {},
   "outputs": [
    {
     "name": "stdout",
     "output_type": "stream",
     "text": [
      "The autoreload extension is already loaded. To reload it, use:\n",
      "  %reload_ext autoreload\n"
     ]
    }
   ],
   "source": [
    "%load_ext autoreload\n",
    "%autoreload 2"
   ]
  },
  {
   "cell_type": "markdown",
   "metadata": {},
   "source": [
    "# Preliminaries"
   ]
  },
  {
   "cell_type": "code",
   "execution_count": 9,
   "metadata": {},
   "outputs": [],
   "source": [
    "import pybullet as p\n",
    "import time\n",
    "import pybullet_data\n",
    "import smarticlesimulation as sim\n",
    "import numpy as np\n",
    "import keyboard\n",
    "from mpl_toolkits.mplot3d import Axes3D\n",
    "import matplotlib.pyplot as plt\n",
    "%matplotlib widget\n",
    "\n",
    "############\n",
    "# Load paths\n",
    "smarticle_path = '../urdf/smarticle.urdf'\n",
    "ring_path = '../urdf/ring.urdf'\n",
    "data_path = '../data/'\n",
    "\n",
    "############\n",
    "# Parameters\n",
    "viz = False\n",
    "num_trials = 10\n",
    "rand_len = 0*60 # random gait time\n",
    "sim_len = 8*60  # sim time\n",
    "rand_steps = sim.time_to_steps(rand_len)\n",
    "sim_steps = sim.time_to_steps(sim_len)\n",
    "Ns = 3 # number of smarticles\n",
    "width = 0.032 # placement spacing\n",
    "th = np.pi/2 # inital orientation"
   ]
  },
  {
   "cell_type": "markdown",
   "metadata": {},
   "source": [
    "## Set Up"
   ]
  },
  {
   "cell_type": "code",
   "execution_count": 10,
   "metadata": {},
   "outputs": [],
   "source": [
    "#############\n",
    "# Environment\n",
    "if viz:\n",
    "    physicsClient = p.connect(p.GUI)\n",
    "else:\n",
    "    physicsClient = p.connect(p.DIRECT)\n",
    "p.setAdditionalSearchPath(pybullet_data.getDataPath()) #optionally\n",
    "p.setGravity(0,0,-9.81)\n",
    "planeId = p.loadURDF(\"plane.urdf\")\n",
    "ringID = p.loadURDF(ring_path, basePosition = [0,0,0])\n",
    "ringConstraintID = p.createConstraint(ringID,-1,0,-1,p.JOINT_FIXED,[0,0,0],[0,0,0],[0,0,0])\n",
    "\n",
    "#################\n",
    "# Smarticle gaits\n",
    "R = [-np.pi/2,-np.pi/2,np.pi/2,np.pi/2,np.pi/2,np.pi/2,-np.pi/2,-np.pi/2]\n",
    "L = [np.pi/2,np.pi/2,np.pi/2,np.pi/2,-np.pi/2,-np.pi/2,-np.pi/2,-np.pi/2]\n",
    "gaits = [[L,R],[L,R],[L,R]]\n",
    "gait_period = sim.time_to_steps(0.2)\n",
    "smarticles = sim.load_smarticles(Ns, smarticle_path, gaits, gait_period, 0, width, th)"
   ]
  },
  {
   "cell_type": "markdown",
   "metadata": {},
   "source": [
    "# Simulation"
   ]
  },
  {
   "cell_type": "code",
   "execution_count": 11,
   "metadata": {},
   "outputs": [
    {
     "name": "stdout",
     "output_type": "stream",
     "text": [
      "Trial Num: 1\n",
      "Trial Num: 2\n",
      "Trial Num: 3\n",
      "Trial Num: 4\n",
      "Trial Num: 5\n",
      "Trial Num: 6\n",
      "Trial Num: 7\n",
      "Trial Num: 8\n",
      "Trial Num: 9\n",
      "Trial Num: 10\n",
      "Time Elapsed: 1950.9s\n"
     ]
    }
   ],
   "source": [
    "data = []\n",
    "tic = time.time()\n",
    "for i in range(num_trials):\n",
    "    print(\"Trial Num: \"+str(i+1))\n",
    "    \n",
    "    ###############\n",
    "    # Randomization\n",
    "    for j in range(rand_steps):\n",
    "        data.append(sim.get_state(smarticles))\n",
    "        p.stepSimulation()\n",
    "        for s in smarticles:\n",
    "            if j % gait_period == s.gait_phase:\n",
    "                s.move_random_corners()\n",
    "            if keyboard.is_pressed('q'):\n",
    "                break\n",
    "        if keyboard.is_pressed('q'):\n",
    "            break\n",
    "    \n",
    "    ##########\n",
    "    # Main run\n",
    "    for j in range(sim_steps):\n",
    "        if viz:\n",
    "            time.sleep(1/240.)\n",
    "        data.append(sim.get_state(smarticles,i+1))\n",
    "        p.stepSimulation()\n",
    "        for s in smarticles:\n",
    "            if j % gait_period == s.gait_phase:\n",
    "                s.motor_step()\n",
    "            if keyboard.is_pressed('q'):\n",
    "                break\n",
    "        if keyboard.is_pressed('q'):\n",
    "            break\n",
    "\n",
    "p.disconnect()\n",
    "toc = time.time()\n",
    "print(\"Time Elapsed: \"+str(np.round(toc-tic,1))+\"s\")"
   ]
  },
  {
   "cell_type": "markdown",
   "metadata": {},
   "source": [
    "## Subsampling and Saving"
   ]
  },
  {
   "cell_type": "code",
   "execution_count": 12,
   "metadata": {},
   "outputs": [],
   "source": [
    "DATE = \"2020-10-13\"\n",
    "F = 2\n",
    "skip = 1\n",
    "data = np.copy(data[::skip])\n",
    "filename = DATE+\"_sim_randinit_\"+str(num_trials)+\"_240Hz_file_\"+str(F)+\".csv\"\n",
    "np.savetxt(data_path+filename, data, delimiter=\",\")"
   ]
  },
  {
   "cell_type": "markdown",
   "metadata": {},
   "source": [
    "## Check Plot"
   ]
  },
  {
   "cell_type": "code",
   "execution_count": 7,
   "metadata": {},
   "outputs": [
    {
     "data": {
      "application/vnd.jupyter.widget-view+json": {
       "model_id": "70af253821aa45ef8fa0625b5be68e18",
       "version_major": 2,
       "version_minor": 0
      },
      "text/plain": [
       "Canvas(toolbar=Toolbar(toolitems=[('Home', 'Reset original view', 'home', 'home'), ('Back', 'Back to previous …"
      ]
     },
     "metadata": {},
     "output_type": "display_data"
    }
   ],
   "source": [
    "skip = 10\n",
    "norm_len = 1./12. \n",
    "t_data = np.linspace(0,data.shape[0]/240.,data.shape[0])\n",
    "x_unscaled = data[:,:3*Ns:3]\n",
    "y_unscaled = data[:,1:3*Ns:3]\n",
    "theta = data[:,2:3*Ns:3]\n",
    "centroid = np.array([np.mean(x_unscaled,axis=1),np.mean(y_unscaled,axis=1)])\n",
    "origin = np.array([np.mean(centroid[0]),np.mean(centroid[1])])\n",
    "\n",
    "# Scaled data\n",
    "x = (x_unscaled-origin[0])/norm_len\n",
    "y = (y_unscaled-origin[1])/norm_len\n",
    "\n",
    "# Check trajectory\n",
    "plt.figure()\n",
    "plt.subplot(3,1,1)\n",
    "plt.title('Simulated Smarticle Trajectories')\n",
    "plt.scatter(t_data,x.T[0],s=1.5)\n",
    "plt.scatter(t_data,x.T[1],s=1.5)\n",
    "plt.scatter(t_data,x.T[2],s=1.5)\n",
    "plt.xlim([t_data[0], t_data[-1]])\n",
    "plt.ylabel(r'$x$')\n",
    "plt.grid(True)\n",
    "\n",
    "plt.subplot(3,1,2)\n",
    "plt.scatter(t_data,y.T[0],s=1.5)\n",
    "plt.scatter(t_data,y.T[1],s=1.5)\n",
    "plt.scatter(t_data,y.T[2],s=1.5)\n",
    "plt.xlim([t_data[0], t_data[-1]])\n",
    "plt.ylabel(r'$y$')\n",
    "plt.grid(True)\n",
    "\n",
    "plt.subplot(3,1,3)\n",
    "plt.scatter(t_data,theta.T[0],s=1.5)\n",
    "plt.scatter(t_data,theta.T[1],s=1.5)\n",
    "plt.scatter(t_data,theta.T[2],s=1.5)\n",
    "plt.xlim([t_data[0], t_data[-1]])\n",
    "plt.ylabel(r'$\\theta$')\n",
    "plt.xlabel('Time (s)')\n",
    "plt.grid(True)\n",
    "plt.show()"
   ]
  },
  {
   "cell_type": "code",
   "execution_count": null,
   "metadata": {},
   "outputs": [],
   "source": [
    "plt.close('all')"
   ]
  }
 ],
 "metadata": {
  "kernelspec": {
   "display_name": "Python 3",
   "language": "python",
   "name": "python3"
  },
  "language_info": {
   "codemirror_mode": {
    "name": "ipython",
    "version": 3
   },
   "file_extension": ".py",
   "mimetype": "text/x-python",
   "name": "python",
   "nbconvert_exporter": "python",
   "pygments_lexer": "ipython3",
   "version": "3.8.5"
  }
 },
 "nbformat": 4,
 "nbformat_minor": 4
}
