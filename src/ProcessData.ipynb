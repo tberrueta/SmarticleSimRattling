{
 "cells": [
  {
   "cell_type": "markdown",
   "metadata": {},
   "source": [
    "# Smarticle Simulation Data Visualization and Processing"
   ]
  },
  {
   "cell_type": "code",
   "execution_count": 1,
   "metadata": {},
   "outputs": [],
   "source": [
    "%load_ext autoreload\n",
    "%autoreload 2"
   ]
  },
  {
   "cell_type": "markdown",
   "metadata": {},
   "source": [
    "# Preliminaries"
   ]
  },
  {
   "cell_type": "code",
   "execution_count": 30,
   "metadata": {},
   "outputs": [],
   "source": [
    "import time\n",
    "import numpy as np\n",
    "import smarticlesimulation as sim\n",
    "from mpl_toolkits.mplot3d import Axes3D\n",
    "import matplotlib.pyplot as plt\n",
    "from sklearn.linear_model import LinearRegression\n",
    "%matplotlib widget\n",
    "\n",
    "###########\n",
    "# Load data\n",
    "# skip = 6\n",
    "data_path = '../data/'\n",
    "file = \"combined_24inits_40Hz.csv\"\n",
    "data = np.genfromtxt(data_path+file, delimiter=\",\")\n",
    "# file = \"2020-10-13_sim_randinit_10_240Hz_file_2.csv\"\n",
    "# data2 = np.genfromtxt(data_path+file, delimiter=\",\")\n",
    "# temp = np.vstack([data1,data2[::skip]])\n",
    "# data = temp\n",
    "# np.savetxt(data_path+\"combined_24inits_40Hz.csv\", data, delimiter=\",\")"
   ]
  },
  {
   "cell_type": "markdown",
   "metadata": {},
   "source": [
    "# Preprocessing and Plotting"
   ]
  },
  {
   "cell_type": "code",
   "execution_count": 32,
   "metadata": {},
   "outputs": [
    {
     "name": "stdout",
     "output_type": "stream",
     "text": [
      "Wall time: 15.3 s\n"
     ]
    }
   ],
   "source": [
    "Ns = 3; fs = 40.\n",
    "norm_len = 1./12. \n",
    "t_data = np.linspace(0,data.shape[0]/fs,data.shape[0])\n",
    "x_unscaled = data[:,:3*Ns:3]\n",
    "y_unscaled = data[:,1:3*Ns:3]\n",
    "theta = data[:,2:3*Ns:3]\n",
    "centroid = np.array([np.mean(x_unscaled,axis=1),np.mean(y_unscaled,axis=1)])\n",
    "origin = np.array([np.mean(centroid[0]),np.mean(centroid[1])])\n",
    "\n",
    "# Scaled data\n",
    "x = (x_unscaled-origin[0])/norm_len\n",
    "y = (y_unscaled-origin[1])/norm_len\n",
    "\n",
    "# Preprocess into observables\n",
    "prep_data = np.vstack([x.T[0],y.T[0],theta.T[0],x.T[1],y.T[1],theta.T[1],x.T[2],y.T[2],theta.T[2]]).T\n",
    "%time observables = sim.preprocess(prep_data)"
   ]
  },
  {
   "cell_type": "markdown",
   "metadata": {},
   "source": [
    "## Trajectory Plots"
   ]
  },
  {
   "cell_type": "code",
   "execution_count": 41,
   "metadata": {},
   "outputs": [
    {
     "data": {
      "application/vnd.jupyter.widget-view+json": {
       "model_id": "e7facd2122b24575bd2159599da4d7b7",
       "version_major": 2,
       "version_minor": 0
      },
      "text/plain": [
       "Canvas(toolbar=Toolbar(toolitems=[('Home', 'Reset original view', 'home', 'home'), ('Back', 'Back to previous …"
      ]
     },
     "metadata": {},
     "output_type": "display_data"
    }
   ],
   "source": [
    "plt.figure()\n",
    "plt.subplot(3,1,1)\n",
    "plt.title('Simulated Smarticle Trajectories')\n",
    "plt.scatter(t_data,x.T[0],s=1.5)\n",
    "plt.scatter(t_data,x.T[1],s=1.5)\n",
    "plt.scatter(t_data,x.T[2],s=1.5)\n",
    "plt.xlim([t_data[0], t_data[-1]])\n",
    "plt.ylabel(r'$x$')\n",
    "plt.grid(True)\n",
    "\n",
    "plt.subplot(3,1,2)\n",
    "plt.scatter(t_data,y.T[0],s=1.5)\n",
    "plt.scatter(t_data,y.T[1],s=1.5)\n",
    "plt.scatter(t_data,y.T[2],s=1.5)\n",
    "plt.xlim([t_data[0], t_data[-1]])\n",
    "plt.ylabel(r'$y$')\n",
    "plt.grid(True)\n",
    "\n",
    "plt.subplot(3,1,3)\n",
    "plt.scatter(t_data,theta.T[0],s=1.5)\n",
    "plt.scatter(t_data,theta.T[1],s=1.5)\n",
    "plt.scatter(t_data,theta.T[2],s=1.5)\n",
    "plt.xlim([t_data[0], t_data[-1]])\n",
    "plt.ylabel(r'$\\theta$')\n",
    "plt.xlabel('Time (s)')\n",
    "plt.grid(True)\n",
    "plt.show()"
   ]
  },
  {
   "cell_type": "markdown",
   "metadata": {},
   "source": [
    "## Removing Random Shuffle Data\n"
   ]
  },
  {
   "cell_type": "code",
   "execution_count": 35,
   "metadata": {},
   "outputs": [],
   "source": [
    "trial_inds = data[:,-1]\n",
    "t_vec = t_data[np.where(trial_inds>0)]\n",
    "x_vec = x[np.where(trial_inds>0)].T\n",
    "y_vec = y[np.where(trial_inds>0)].T\n",
    "theta_vec = theta[np.where(trial_inds>0)].T"
   ]
  },
  {
   "cell_type": "markdown",
   "metadata": {},
   "source": [
    "## Plots Without Random Data"
   ]
  },
  {
   "cell_type": "code",
   "execution_count": 34,
   "metadata": {},
   "outputs": [
    {
     "data": {
      "application/vnd.jupyter.widget-view+json": {
       "model_id": "a4b0bee477724310b579cd76f1a6847b",
       "version_major": 2,
       "version_minor": 0
      },
      "text/plain": [
       "Canvas(toolbar=Toolbar(toolitems=[('Home', 'Reset original view', 'home', 'home'), ('Back', 'Back to previous …"
      ]
     },
     "metadata": {},
     "output_type": "display_data"
    }
   ],
   "source": [
    "plt.figure()\n",
    "plt.subplot(3,1,1)\n",
    "plt.title('Simulated Smarticle Trajectories')\n",
    "plt.scatter(t_vec,x_vec[0],s=1.5)\n",
    "plt.scatter(t_vec,x_vec[1],s=1.5)\n",
    "plt.scatter(t_vec,x_vec[2],s=1.5)\n",
    "plt.xlim([t_data[0], t_data[-1]])\n",
    "plt.ylabel(r'$x$')\n",
    "plt.grid(True)\n",
    "\n",
    "plt.subplot(3,1,2)\n",
    "plt.scatter(t_vec,y_vec[0],s=1.5)\n",
    "plt.scatter(t_vec,y_vec[1],s=1.5)\n",
    "plt.scatter(t_vec,y_vec[2],s=1.5)\n",
    "plt.xlim([t_data[0], t_data[-1]])\n",
    "plt.ylabel(r'$y$')\n",
    "plt.grid(True)\n",
    "\n",
    "plt.subplot(3,1,3)\n",
    "plt.scatter(t_vec,theta_vec[0],s=1.5)\n",
    "plt.scatter(t_vec,theta_vec[1],s=1.5)\n",
    "plt.scatter(t_vec,theta_vec[2],s=1.5)\n",
    "plt.xlim([t_data[0], t_data[-1]])\n",
    "plt.ylabel(r'$\\theta$')\n",
    "plt.xlabel('Time (s)')\n",
    "plt.grid(True)\n",
    "plt.show()"
   ]
  },
  {
   "cell_type": "markdown",
   "metadata": {},
   "source": [
    "# Processing"
   ]
  },
  {
   "cell_type": "markdown",
   "metadata": {},
   "source": [
    "## Calculating Rattling Over Trajectories"
   ]
  },
  {
   "cell_type": "code",
   "execution_count": 45,
   "metadata": {},
   "outputs": [
    {
     "name": "stdout",
     "output_type": "stream",
     "text": [
      "Wall time: 42.4 s\n"
     ]
    },
    {
     "data": {
      "application/vnd.jupyter.widget-view+json": {
       "model_id": "6a825cfb0e7b40c59ae1d071cff11b3d",
       "version_major": 2,
       "version_minor": 0
      },
      "text/plain": [
       "Canvas(toolbar=Toolbar(toolitems=[('Home', 'Reset original view', 'home', 'home'), ('Back', 'Back to previous …"
      ]
     },
     "metadata": {},
     "output_type": "display_data"
    }
   ],
   "source": [
    "# Calculate rattling over windows of the time-series\n",
    "dt = np.mean(np.diff(t_data))\n",
    "T = 6; ov = 1; w_sz = int(T/dt); N = 25;\n",
    "%time rats, covs, _ = sim.rattling_windows(observables,dt,w_sz,ov)\n",
    "\n",
    "# Plotting\n",
    "plt.figure()\n",
    "plt.plot(t_data[:2-w_sz-N],sim.moving_average(rats,N))\n",
    "plt.xlabel('Time (s)')\n",
    "plt.ylabel('Rattling')\n",
    "plt.xlim([t_data[0],t_data[2-w_sz-N]])\n",
    "# plt.ylim([-40,-10])\n",
    "plt.grid(True)\n",
    "plt.show()"
   ]
  },
  {
   "cell_type": "markdown",
   "metadata": {},
   "source": [
    "## Getting U-Shapes"
   ]
  },
  {
   "cell_type": "code",
   "execution_count": 36,
   "metadata": {},
   "outputs": [],
   "source": [
    "gait_restart_ind = np.max(data[:,-2])-1\n",
    "temp = np.where(np.diff(data[:,-2])<-gait_restart_ind)[0]\n",
    "u_inds = temp[np.where(temp<len(rats))]\n",
    "rat_vec = np.array(rats)[u_inds]"
   ]
  },
  {
   "cell_type": "markdown",
   "metadata": {},
   "source": [
    "## Driven Steady-State Plot"
   ]
  },
  {
   "cell_type": "code",
   "execution_count": 37,
   "metadata": {},
   "outputs": [
    {
     "data": {
      "application/vnd.jupyter.widget-view+json": {
       "model_id": "58028ef171a34cc5af7f2088df85843a",
       "version_major": 2,
       "version_minor": 0
      },
      "text/plain": [
       "Canvas(toolbar=Toolbar(toolitems=[('Home', 'Reset original view', 'home', 'home'), ('Back', 'Back to previous …"
      ]
     },
     "metadata": {},
     "output_type": "display_data"
    }
   ],
   "source": [
    "fig = plt.figure(figsize=(6,5))\n",
    "ax = fig.add_subplot(111, projection='3d')\n",
    "skip=2; col = rat_vec[::skip]\n",
    "im = ax.scatter(observables[u_inds[::skip],1],observables[u_inds[::skip],0],observables[u_inds[::skip],2],c=col,s=5,alpha=0.5)\n",
    "ax.view_init(elev=5, azim=95)\n",
    "ax.set_xlabel(r'$q_1$')\n",
    "ax.set_ylabel(r'$q_2$')\n",
    "ax.set_zlabel(r'$q_3$')\n",
    "cbar = fig.colorbar(im,shrink=0.6)\n",
    "cbar.set_label('Rattling')\n",
    "plt.tight_layout()\n",
    "plt.show()"
   ]
  },
  {
   "cell_type": "markdown",
   "metadata": {},
   "source": [
    "## Estimating Steady-State Probability Density"
   ]
  },
  {
   "cell_type": "code",
   "execution_count": 38,
   "metadata": {},
   "outputs": [
    {
     "name": "stdout",
     "output_type": "stream",
     "text": [
      "Wall time: 37 s\n"
     ]
    }
   ],
   "source": [
    "skip = 600\n",
    "u_inds = range(len(rats)) # getting a more even sample of points instead of just U-shapes\n",
    "rv = np.array(rats)[u_inds][::skip]\n",
    "%time p_ss = estimate_pss(observables[::skip])"
   ]
  },
  {
   "cell_type": "markdown",
   "metadata": {},
   "source": [
    "## Estimating Correlation Slope"
   ]
  },
  {
   "cell_type": "code",
   "execution_count": 49,
   "metadata": {},
   "outputs": [],
   "source": [
    "reg = LinearRegression().fit(rv.reshape(-1, 1), np.log(p_ss).reshape(-1, 1))\n",
    "xv = np.linspace(-24,-14,100)\n",
    "yv = reg.coef_*xv+reg.intercept_\n",
    "r_squared = reg.score(rv.reshape(-1, 1), np.log(p_ss).reshape(-1, 1))"
   ]
  },
  {
   "cell_type": "markdown",
   "metadata": {},
   "source": [
    "## Correlation Plot"
   ]
  },
  {
   "cell_type": "code",
   "execution_count": 55,
   "metadata": {},
   "outputs": [
    {
     "data": {
      "application/vnd.jupyter.widget-view+json": {
       "model_id": "fed7ad2f4d0f4054803589d5720f59b9",
       "version_major": 2,
       "version_minor": 0
      },
      "text/plain": [
       "Canvas(toolbar=Toolbar(toolitems=[('Home', 'Reset original view', 'home', 'home'), ('Back', 'Back to previous …"
      ]
     },
     "metadata": {},
     "output_type": "display_data"
    }
   ],
   "source": [
    "plt.figure()\n",
    "plt.scatter(rv,np.log(p_ss),s=15,alpha=0.6)\n",
    "plt.grid(True)\n",
    "plt.plot(xv,yv[0],linewidth=3,c='k')\n",
    "plt.text(np.max(rv)-3,np.max(np.log(p_ss))-1,r'$\\gamma$='+str(np.round(reg.coef_[0,0],2)),fontsize=14,bbox=dict(facecolor='white', alpha=1))\n",
    "plt.xlabel('Rattling')\n",
    "plt.ylabel(r'log$(p_{ss})$')\n",
    "plt.xlim([np.min(rv)-2,np.max(rv)+2])\n",
    "plt.title(r'Low-Rattling Selection Principle, $r^2$ = '+str(np.round(r_squared,2)))\n",
    "plt.show()"
   ]
  },
  {
   "cell_type": "code",
   "execution_count": 46,
   "metadata": {},
   "outputs": [],
   "source": [
    "plt.close('all')"
   ]
  }
 ],
 "metadata": {
  "kernelspec": {
   "display_name": "Python 3",
   "language": "python",
   "name": "python3"
  },
  "language_info": {
   "codemirror_mode": {
    "name": "ipython",
    "version": 3
   },
   "file_extension": ".py",
   "mimetype": "text/x-python",
   "name": "python",
   "nbconvert_exporter": "python",
   "pygments_lexer": "ipython3",
   "version": "3.8.5"
  }
 },
 "nbformat": 4,
 "nbformat_minor": 4
}
